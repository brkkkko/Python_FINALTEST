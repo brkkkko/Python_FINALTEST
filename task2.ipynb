{
 "cells": [
  {
   "cell_type": "markdown",
   "metadata": {},
   "source": [
    "# 2) f = 2 * x ** 3 + 2 * x ** 2 - 18 * x - 18"
   ]
  },
  {
   "cell_type": "code",
   "execution_count": 2,
   "metadata": {},
   "outputs": [],
   "source": [
    "from sympy import *\n",
    "from sympy.plotting import plot\n",
    "from math import *\n",
    "init_printing()"
   ]
  },
  {
   "cell_type": "code",
   "execution_count": 3,
   "metadata": {},
   "outputs": [],
   "source": [
    "x = symbols('x')"
   ]
  },
  {
   "cell_type": "code",
   "execution_count": 4,
   "metadata": {},
   "outputs": [],
   "source": [
    "f = 2 * x ** 3 + 2 * x ** 2 - 18 * x - 18"
   ]
  },
  {
   "cell_type": "markdown",
   "metadata": {},
   "source": [
    "# 1) Определить корни"
   ]
  },
  {
   "cell_type": "code",
   "execution_count": 5,
   "metadata": {},
   "outputs": [
    {
     "name": "stdout",
     "output_type": "stream",
     "text": [
      "3\n",
      "Roots: (-3.0,-1.0,3.0)\n"
     ]
    }
   ],
   "source": [
    "roots_f = real_roots(f)\n",
    "print(len(roots_f))\n",
    "a, b, c = round(float(roots_f[0]), 3), round(float(roots_f[1]), 3), round(float(roots_f[2]), 3)\n",
    "print(f\"Roots: ({a},{b},{c})\")"
   ]
  },
  {
   "cell_type": "markdown",
   "metadata": {},
   "source": [
    "# 2/3) Найти интервалы, на которых функция возрастает/убывает"
   ]
  },
  {
   "cell_type": "code",
   "execution_count": 6,
   "metadata": {},
   "outputs": [
    {
     "name": "stdout",
     "output_type": "stream",
     "text": [
      "Function increases on(-inf; 1.431)\n",
      "Function decreases on (1.431,-2.097)\n",
      "Function increases on (-2.097, +inf)\n"
     ]
    }
   ],
   "source": [
    "derivative = str(diff(f))\n",
    "dot1, dot2 = round(float(solve(derivative)[0]), 3), round(float(solve(derivative)[1]), 3)\n",
    "# print(derivative)\n",
    "# print(dot1,dot2)\n",
    "def interval(derivative, dot1, dot2):\n",
    "    list_values = []\n",
    "    for i in [str(dot1-1), str(dot1), str(dot1+1), str(dot2-1), str(dot2), str(dot2+1)]:\n",
    "        list_values.append(eval(derivative.replace(\"x\", i)))\n",
    "    # print(list_values)\n",
    "    if list_values[0] > list_values[1]:\n",
    "        print(f\"Function decreases on (-inf; {dot1})\")\n",
    "    else:\n",
    "        print(f\"Function increases on(-inf; {dot1})\")\n",
    "    if list_values[2] > list_values[3]:\n",
    "        print(f\"Function decreases on ({dot1},{dot2})\")\n",
    "    else:\n",
    "        print(f\"Function increases on ({dot1},{dot2})\")\n",
    "    if list_values[4] > list_values[5]:\n",
    "        print(f\"Function decreases on ({dot2}, +inf)\")\n",
    "    else:\n",
    "        print(f\"Function increases on ({dot2}, +inf)\")\n",
    "\n",
    "interval(derivative, dot1, dot2)"
   ]
  },
  {
   "cell_type": "markdown",
   "metadata": {},
   "source": [
    "# 4) Построить график"
   ]
  },
  {
   "cell_type": "code",
   "execution_count": 7,
   "metadata": {},
   "outputs": [
    {
     "name": "stdout",
     "output_type": "stream",
     "text": [
      "   2000 |                                                      /\n",
      "        |                                                     / \n",
      "        |                                                    /  \n",
      "        |                                                   /   \n",
      "        |                                                  /    \n",
      "        |                                                 /     \n",
      "        |                                                /      \n",
      "        |                                              ..       \n",
      "        |                                             /         \n",
      "        |                                           ..          \n",
      "    200 |---------------------------------------....------------\n",
      "        |                .......................                \n",
      "        |            ....                                       \n",
      "        |         ...                                           \n",
      "        |       ..                                              \n",
      "        |      /                                                \n",
      "        |    ..                                                 \n",
      "        |   /                                                   \n",
      "        |  /                                                    \n",
      "        | /                                                     \n",
      "  -1600 |_______________________________________________________\n",
      "         -10                        0                          10\n",
      "2*x**3 + 2*x**2 - 18*x - 18\n"
     ]
    }
   ],
   "source": [
    "plot(f, (x, -10, 10),line_color='blue', title='Function 2x^3 + 2x^2 - 18x - 18')\n",
    "print(f)"
   ]
  },
  {
   "cell_type": "markdown",
   "metadata": {},
   "source": [
    "# 5) Вычислить вершину"
   ]
  },
  {
   "cell_type": "code",
   "execution_count": 8,
   "metadata": {},
   "outputs": [
    {
     "name": "stdout",
     "output_type": "stream",
     "text": [
      "Vertex of a parabola: (1.431,-33.802), (-2.097,-7.492)\n"
     ]
    }
   ],
   "source": [
    "import nums_from_string\n",
    "x = symbols('x')\n",
    "f = 2*x**3+2*x**2-18*x-18\n",
    "func = str(f)\n",
    "derivative1 = str(diff(f))\n",
    "dot1, dot2 = round(float(solve(derivative1)[0]), 3), round(float(solve(derivative1)[1]), 3)\n",
    "# print(derivative1)\n",
    "# print(dot1,dot2)\n",
    "vertex1 = round(eval(func.replace(\"x\", str(dot1))), 3)\n",
    "vertex2 = round(eval(func.replace(\"x\", str(dot2))), 3)\n",
    "print(f\"Vertex of a parabola: ({dot1},{vertex1}), ({dot2},{vertex2})\")"
   ]
  },
  {
   "cell_type": "markdown",
   "metadata": {},
   "source": [
    "# 6/7) Определить промежутки, на котором f > 0 / f < 0"
   ]
  },
  {
   "cell_type": "code",
   "execution_count": 9,
   "metadata": {},
   "outputs": [
    {
     "name": "stdout",
     "output_type": "stream",
     "text": [
      "-3.0 -1.0 3.0\n",
      "f < 0: (-inf; -3.0)\n",
      "f < 0: (-3.0,-1.0)\n",
      "f > 0: (-1.0,3.0)\n",
      "f > 0: (3.0; +inf)\n"
     ]
    }
   ],
   "source": [
    "def pos_neg(a,b,c,f):\n",
    "    list_values = []\n",
    "    list_values.append(eval(f.replace(\"x\", str(a-1))))\n",
    "    list_values.append(eval(f.replace(\"x\", str(a+1))))\n",
    "    list_values.append(eval(f.replace(\"x\", str(b+1))))\n",
    "    list_values.append(eval(f.replace(\"x\", str(c+1))))\n",
    "    if list_values[0] > 0:\n",
    "        print(f\"f > 0:(-inf; {a})\")\n",
    "    else:\n",
    "        print(f\"f < 0: (-inf; {a})\")\n",
    "    if list_values[1] > 0 or list_values[2] > 0:\n",
    "        print(f\"f > 0: ({a},{b})\")\n",
    "    else:\n",
    "        print(f\"f < 0: ({a},{b})\")\n",
    "    if list_values[2] > 0 or list_values[3] > 0:\n",
    "        print(f\"f > 0: ({b},{c})\")\n",
    "    else:\n",
    "        print(f\"f < 0: ({b},{c})\")\n",
    "    if list_values[3] > 0:\n",
    "        print(f\"f > 0: ({c}; +inf)\")\n",
    "    else:\n",
    "        print(f\"f < 0: ({c}; +inf)\")     \n",
    "    \n",
    "\n",
    "f = \"2*x**3 + 2*x**2 - 18*x - 18\"\n",
    "print(a,b,c)\n",
    "pos_neg(a,b,c,f)"
   ]
  }
 ],
 "metadata": {
  "kernelspec": {
   "display_name": "Python 3.10.8 64-bit (microsoft store)",
   "language": "python",
   "name": "python3"
  },
  "language_info": {
   "codemirror_mode": {
    "name": "ipython",
    "version": 3
   },
   "file_extension": ".py",
   "mimetype": "text/x-python",
   "name": "python",
   "nbconvert_exporter": "python",
   "pygments_lexer": "ipython3",
   "version": "3.10.8"
  },
  "orig_nbformat": 4,
  "vscode": {
   "interpreter": {
    "hash": "34d10e8f1363b336aa30d09a800aa8ed0a526bebe65c01f4c1b2b565eda3c045"
   }
  }
 },
 "nbformat": 4,
 "nbformat_minor": 2
}
