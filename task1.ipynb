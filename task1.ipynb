{
 "cells": [
  {
   "cell_type": "markdown",
   "metadata": {},
   "source": [
    "# 1) f = -18 * x ** 3 + 5 * x ** 2 + 10 * x - 30"
   ]
  },
  {
   "cell_type": "code",
   "execution_count": 1,
   "metadata": {},
   "outputs": [],
   "source": [
    "from sympy import *\n",
    "from sympy.plotting import plot\n",
    "from math import *\n",
    "init_printing()"
   ]
  },
  {
   "cell_type": "code",
   "execution_count": 2,
   "metadata": {},
   "outputs": [],
   "source": [
    "x = symbols('x')"
   ]
  },
  {
   "cell_type": "code",
   "execution_count": 3,
   "metadata": {},
   "outputs": [],
   "source": [
    "f = -18*(x)**3+5*x**2+10*x-30"
   ]
  },
  {
   "cell_type": "markdown",
   "metadata": {},
   "source": [
    "# 1) Определить корни"
   ]
  },
  {
   "cell_type": "code",
   "execution_count": 4,
   "metadata": {},
   "outputs": [
    {
     "name": "stdout",
     "output_type": "stream",
     "text": [
      "Roots: (-1.245)\n"
     ]
    }
   ],
   "source": [
    "roots_f = real_roots(f)\n",
    "# len(roots_f)\n",
    "a = round(float(roots_f[0]), 3)\n",
    "print(f\"Roots: ({a})\")"
   ]
  },
  {
   "cell_type": "markdown",
   "metadata": {},
   "source": [
    "# 2/3) Найти интервалы, на которых функция возрастает/убывает"
   ]
  },
  {
   "cell_type": "code",
   "execution_count": 5,
   "metadata": {},
   "outputs": [
    {
     "name": "stdout",
     "output_type": "stream",
     "text": [
      "-54*x**2 + 10*x + 10\n",
      "-0.348 0.533\n",
      "[94.64361599999998, 13.059616, -6.435616000000003, 17.106806, -0.010806000000002314, -101.57480599999998]\n",
      "Function decreases on (-inf; -0.348)\n",
      "Function increases on (-0.348,0.533)\n",
      "Function decreases on (0.533, +inf)\n"
     ]
    }
   ],
   "source": [
    "derivative = str(diff(f))\n",
    "dot1, dot2 = round(float(solve(derivative)[0]), 3), round(float(solve(derivative)[1]), 3)\n",
    "print(derivative)\n",
    "print(dot1,dot2)\n",
    "def interval(derivative, dot1, dot2):\n",
    "    list_values = []\n",
    "    for i in [str(dot1-1), str(dot1), str(dot1+1), str(dot2-1), str(dot2), str(dot2+1)]:\n",
    "        list_values.append(eval(derivative.replace(\"x\", i)))\n",
    "    print(list_values)\n",
    "    if list_values[0] > list_values[1]:\n",
    "        print(f\"Function decreases on (-inf; {dot1})\")\n",
    "    else:\n",
    "        print(f\"Function increases on(-inf; {dot1})\")\n",
    "    if list_values[2] > list_values[3]:\n",
    "        print(f\"Function decreases on ({dot1},{dot2})\")\n",
    "    else:\n",
    "        print(f\"Function increases on ({dot1},{dot2})\")\n",
    "    if list_values[4] > list_values[5]:\n",
    "        print(f\"Function decreases on ({dot2}, +inf)\")\n",
    "    else:\n",
    "        print(f\"Function decreases on ({dot2}, +inf)\")\n",
    "\n",
    "interval(derivative, dot1, dot2)"
   ]
  },
  {
   "cell_type": "markdown",
   "metadata": {},
   "source": [
    "# 4) Построить график"
   ]
  },
  {
   "cell_type": "code",
   "execution_count": 6,
   "metadata": {},
   "outputs": [
    {
     "name": "stdout",
     "output_type": "stream",
     "text": [
      "  18000 |\\                                                      \n",
      "        | \\                                                     \n",
      "        |  \\                                                    \n",
      "        |   \\                                                   \n",
      "        |    \\                                                  \n",
      "        |     ..                                                \n",
      "        |       \\                                               \n",
      "        |        ..                                             \n",
      "        |          ...                                          \n",
      "        |             ...                                       \n",
      "    500 |----------------...................--------------------\n",
      "        |                                   ......              \n",
      "        |                                         ...           \n",
      "        |                                            ..         \n",
      "        |                                              ..       \n",
      "        |                                                \\      \n",
      "        |                                                 ..    \n",
      "        |                                                   \\   \n",
      "        |                                                    \\  \n",
      "        |                                                     \\ \n",
      " -17000 |_______________________________________________________\n",
      "         -10                        0                          10\n",
      "-18*x**3 + 5*x**2 + 10*x - 30\n"
     ]
    }
   ],
   "source": [
    "plot(f, (x, -10, 10),line_color='blue', title='Function -18x^3+5x^2+10x-30')\n",
    "print(f)"
   ]
  },
  {
   "cell_type": "markdown",
   "metadata": {},
   "source": [
    "# 5) Вычислить вершину"
   ]
  },
  {
   "cell_type": "code",
   "execution_count": 7,
   "metadata": {},
   "outputs": [
    {
     "name": "stdout",
     "output_type": "stream",
     "text": [
      "Vertex of a parabola: (-0.348,-33.327), (0.533,-25.975)\n"
     ]
    }
   ],
   "source": [
    "x = symbols('x')\n",
    "f = -18*(x)**3+5*x**2+10*x-30\n",
    "func = str(f)\n",
    "import nums_from_string\n",
    "derivative1 = str(diff(f))\n",
    "dot1, dot2 = round(float(solve(derivative1)[0]), 3), round(float(solve(derivative1)[1]), 3)\n",
    "# print(derivative1)\n",
    "# print(dot1,dot2)\n",
    "vertex1 = round(eval(func.replace(\"x\", str(dot1))), 3)\n",
    "vertex2 = round(eval(func.replace(\"x\", str(dot2))), 3)\n",
    "print(f\"Vertex of a parabola: ({dot1},{vertex1}), ({dot2},{vertex2})\")\n"
   ]
  },
  {
   "cell_type": "markdown",
   "metadata": {},
   "source": [
    "# 6/7) Определить промежутки, на котором f > 0 / f < 0"
   ]
  },
  {
   "cell_type": "code",
   "execution_count": 8,
   "metadata": {},
   "outputs": [
    {
     "name": "stdout",
     "output_type": "stream",
     "text": [
      "f > 0:  (-inf ; -1.245)\n",
      "f < 0: (-1.245; +inf)\n"
     ]
    }
   ],
   "source": [
    "def positively_negative(a,f):\n",
    "    list_values = []\n",
    "    list_values.append(eval(f.replace(\"x\", str(a-1))))\n",
    "    list_values.append(eval(f.replace(\"x\", str(a+1))))\n",
    "    if list_values[0] > 0:\n",
    "        print(f\"f > 0:  (-inf ; {a})\")\n",
    "    else:\n",
    "        print(f\"f < 0 : (-inf; {a})\")\n",
    "    if list_values[1] > 0:\n",
    "        print(f\"f > 0: ({a}; +inf)\")\n",
    "    else:\n",
    "        print(f\"f < 0: ({a}; +inf)\")\n",
    "         \n",
    "\n",
    "f = \"-18 * x ** 3 + 5 * x ** 2 + 10 * x - 30\"\n",
    "positively_negative(a,f)"
   ]
  }
 ],
 "metadata": {
  "kernelspec": {
   "display_name": "Python 3.10.8 64-bit (microsoft store)",
   "language": "python",
   "name": "python3"
  },
  "language_info": {
   "codemirror_mode": {
    "name": "ipython",
    "version": 3
   },
   "file_extension": ".py",
   "mimetype": "text/x-python",
   "name": "python",
   "nbconvert_exporter": "python",
   "pygments_lexer": "ipython3",
   "version": "3.10.8"
  },
  "orig_nbformat": 4,
  "vscode": {
   "interpreter": {
    "hash": "34d10e8f1363b336aa30d09a800aa8ed0a526bebe65c01f4c1b2b565eda3c045"
   }
  }
 },
 "nbformat": 4,
 "nbformat_minor": 2
}
